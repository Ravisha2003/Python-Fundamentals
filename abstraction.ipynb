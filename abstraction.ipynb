{
 "cells": [
  {
   "cell_type": "code",
   "execution_count": 1,
   "id": "c38a1cd1-93d4-4589-9a37-0f7e5e82b5f5",
   "metadata": {},
   "outputs": [],
   "source": [
    "#ABSTRACTION"
   ]
  },
  {
   "cell_type": "code",
   "execution_count": 5,
   "id": "1319b115-ef99-4188-b848-ab1d86f075d2",
   "metadata": {},
   "outputs": [],
   "source": [
    "class A:\n",
    "    def Hello(self):\n",
    "        pass\n",
    "a=A()"
   ]
  },
  {
   "cell_type": "code",
   "execution_count": 7,
   "id": "05100297-f475-4e9f-85c9-70be6bb20ac2",
   "metadata": {},
   "outputs": [],
   "source": [
    "a.Hello()"
   ]
  },
  {
   "cell_type": "code",
   "execution_count": 9,
   "id": "630a7dc8-9d1a-4227-a762-73b6ca093373",
   "metadata": {},
   "outputs": [],
   "source": [
    "from abc import ABC,abstractmethod\n",
    "class A:\n",
    "    def Hello(self):\n",
    "        pass\n",
    "    def Sum(self):\n",
    "        print(\"hello and welcome to all of you\")\n",
    "a=A()"
   ]
  },
  {
   "cell_type": "code",
   "execution_count": 11,
   "id": "5a63d7e5-e861-4fce-be49-88520e17ecdc",
   "metadata": {},
   "outputs": [],
   "source": [
    "a.Hello()"
   ]
  },
  {
   "cell_type": "code",
   "execution_count": 13,
   "id": "7e70cca8-edf5-4fe5-b913-f7fa8f80c952",
   "metadata": {},
   "outputs": [
    {
     "name": "stdout",
     "output_type": "stream",
     "text": [
      "hello and welcome to all of you\n"
     ]
    }
   ],
   "source": [
    "a.Sum()"
   ]
  },
  {
   "cell_type": "code",
   "execution_count": 15,
   "id": "8ea51298-2d2f-486a-a61e-a5f6b8436118",
   "metadata": {},
   "outputs": [
    {
     "ename": "TypeError",
     "evalue": "Can't instantiate abstract class A without an implementation for abstract method 'Sum'",
     "output_type": "error",
     "traceback": [
      "\u001b[1;31m---------------------------------------------------------------------------\u001b[0m",
      "\u001b[1;31mTypeError\u001b[0m                                 Traceback (most recent call last)",
      "Cell \u001b[1;32mIn[15], line 8\u001b[0m\n\u001b[0;32m      5\u001b[0m     \u001b[38;5;129m@abstractmethod\u001b[39m\n\u001b[0;32m      6\u001b[0m     \u001b[38;5;28;01mdef\u001b[39;00m \u001b[38;5;21mSum\u001b[39m(\u001b[38;5;28mself\u001b[39m):\n\u001b[0;32m      7\u001b[0m         \u001b[38;5;28mprint\u001b[39m(\u001b[38;5;124m\"\u001b[39m\u001b[38;5;124mhello and welcome to all of you\u001b[39m\u001b[38;5;124m\"\u001b[39m)\n\u001b[1;32m----> 8\u001b[0m a\u001b[38;5;241m=\u001b[39mA()\n",
      "\u001b[1;31mTypeError\u001b[0m: Can't instantiate abstract class A without an implementation for abstract method 'Sum'"
     ]
    }
   ],
   "source": [
    "from abc import ABC,abstractmethod\n",
    "class A(ABC):\n",
    "    def Hello(self):\n",
    "        pass\n",
    "    @abstractmethod\n",
    "    def Sum(self):\n",
    "        print(\"hello and welcome to all of you\")\n",
    "a=A()"
   ]
  },
  {
   "cell_type": "code",
   "execution_count": 27,
   "id": "2bbef7b2-a9de-41b8-a3ed-c1c34fc84d75",
   "metadata": {},
   "outputs": [],
   "source": [
    "from abc import ABC,abstractmethod\n",
    "class BankApp(ABC):\n",
    "    def Database(self):\n",
    "        pass\n",
    "    @abstractmethod\n",
    "    def Security(self):\n",
    "        print(\"You have to access this otherwise you can't use bankapp\")\n",
    "class MobileApp(BankApp):\n",
    "    def Login(self):\n",
    "        print(\"Successfully login\")\n",
    "    def Security(self):\n",
    "            print(\"You successfully use bankapp\")\n",
    "mobile=MobileApp()\n",
    "mobile.Database()"
   ]
  },
  {
   "cell_type": "code",
   "execution_count": 29,
   "id": "632dcadd-ac41-46b4-8f7a-5f24fa8ea501",
   "metadata": {},
   "outputs": [
    {
     "name": "stdout",
     "output_type": "stream",
     "text": [
      "You successfully use bankapp\n"
     ]
    }
   ],
   "source": [
    "mobile.Security()"
   ]
  },
  {
   "cell_type": "code",
   "execution_count": null,
   "id": "74d42050-34d5-439f-9b21-c43be1fe0198",
   "metadata": {},
   "outputs": [],
   "source": []
  }
 ],
 "metadata": {
  "kernelspec": {
   "display_name": "Python 3 (ipykernel)",
   "language": "python",
   "name": "python3"
  },
  "language_info": {
   "codemirror_mode": {
    "name": "ipython",
    "version": 3
   },
   "file_extension": ".py",
   "mimetype": "text/x-python",
   "name": "python",
   "nbconvert_exporter": "python",
   "pygments_lexer": "ipython3",
   "version": "3.12.7"
  }
 },
 "nbformat": 4,
 "nbformat_minor": 5
}
